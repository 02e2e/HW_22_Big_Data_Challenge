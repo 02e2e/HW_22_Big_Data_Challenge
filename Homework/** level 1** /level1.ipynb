{
  "cells": [
    {
      "cell_type": "code",
      "execution_count": null,
      "metadata": {
        "colab": {
          "base_uri": "https://localhost:8080/"
        },
        "id": "qXsYMyJmF1w3",
        "outputId": "2e2b2cbc-e76f-43cd-d6e5-077c66698bd9"
      },
      "outputs": [
        {
          "name": "stdout",
          "output_type": "stream",
          "text": [
            "Get:1 https://cloud.r-project.org/bin/linux/ubuntu bionic-cran40/ InRelease [3,626 B]\n",
            "Get:2 http://security.ubuntu.com/ubuntu bionic-security InRelease [88.7 kB]\n",
            "Hit:3 http://archive.ubuntu.com/ubuntu bionic InRelease\n",
            "Hit:4 http://ppa.launchpad.net/c2d4u.team/c2d4u4.0+/ubuntu bionic InRelease\n",
            "Get:5 http://archive.ubuntu.com/ubuntu bionic-updates InRelease [88.7 kB]\n",
            "Ign:6 https://developer.download.nvidia.com/compute/machine-learning/repos/ubuntu1804/x86_64  InRelease\n",
            "Hit:7 https://developer.download.nvidia.com/compute/cuda/repos/ubuntu1804/x86_64  InRelease\n",
            "Hit:8 https://developer.download.nvidia.com/compute/machine-learning/repos/ubuntu1804/x86_64  Release\n",
            "Hit:9 http://ppa.launchpad.net/cran/libgit2/ubuntu bionic InRelease\n",
            "Get:10 http://archive.ubuntu.com/ubuntu bionic-backports InRelease [74.6 kB]\n",
            "Hit:12 http://ppa.launchpad.net/deadsnakes/ppa/ubuntu bionic InRelease\n",
            "Get:13 http://security.ubuntu.com/ubuntu bionic-security/main amd64 Packages [2,959 kB]\n",
            "Hit:14 http://ppa.launchpad.net/graphics-drivers/ppa/ubuntu bionic InRelease\n",
            "Get:15 http://archive.ubuntu.com/ubuntu bionic-updates/main amd64 Packages [3,390 kB]\n",
            "Get:16 http://security.ubuntu.com/ubuntu bionic-security/restricted amd64 Packages [1,121 kB]\n",
            "Get:17 http://archive.ubuntu.com/ubuntu bionic-updates/restricted amd64 Packages [1,162 kB]\n",
            "Get:18 http://security.ubuntu.com/ubuntu bionic-security/universe amd64 Packages [1,540 kB]\n",
            "Fetched 10.4 MB in 5s (2,187 kB/s)\n",
            "Reading package lists... Done\n"
          ]
        }
      ],
      "source": [
        "import os\n",
        "# Find the latest version of spark 3.0  from http://www.apache.org/dist/spark/ and enter as the spark version\n",
        "# For example:\n",
        "# spark_version = 'spark-3.0.3'\n",
        "spark_version = 'spark-3.1.3'\n",
        "os.environ['SPARK_VERSION']=spark_version\n",
        "\n",
        "# Install Spark and Java\n",
        "!apt-get update\n",
        "!apt-get install openjdk-8-jdk-headless -qq > /dev/null\n",
        "!wget -q http://www.apache.org/dist/spark/$SPARK_VERSION/$SPARK_VERSION-bin-hadoop2.7.tgz\n",
        "!tar xf $SPARK_VERSION-bin-hadoop2.7.tgz\n",
        "!pip install -q findspark\n",
        "\n",
        "# Set Environment Variables\n",
        "os.environ[\"JAVA_HOME\"] = \"/usr/lib/jvm/java-8-openjdk-amd64\"\n",
        "os.environ[\"SPARK_HOME\"] = f\"/content/{spark_version}-bin-hadoop2.7\"\n",
        "\n",
        "# Start a SparkSession\n",
        "import findspark\n",
        "findspark.init()\n",
        "import pandas as pd \n",
        "\n",
        "from pyspark.sql.types import IntegerType, DateType\n",
        "from pyspark.sql import Column"
      ]
    },
    {
      "cell_type": "code",
      "execution_count": null,
      "metadata": {
        "colab": {
          "base_uri": "https://localhost:8080/"
        },
        "id": "LXf5nM0miEKa",
        "outputId": "8e3073e3-45c2-45ad-b527-f5b3e9b62d3a"
      },
      "outputs": [
        {
          "name": "stdout",
          "output_type": "stream",
          "text": [
            "--2022-09-03 07:10:20--  https://jdbc.postgresql.org/download/postgresql-42.2.9.jar\n",
            "Resolving jdbc.postgresql.org (jdbc.postgresql.org)... 72.32.157.228, 2001:4800:3e1:1::228\n",
            "Connecting to jdbc.postgresql.org (jdbc.postgresql.org)|72.32.157.228|:443... connected.\n",
            "HTTP request sent, awaiting response... 200 OK\n",
            "Length: 914037 (893K) [application/java-archive]\n",
            "Saving to: ‘postgresql-42.2.9.jar’\n",
            "\n",
            "postgresql-42.2.9.j 100%[===================>] 892.61K  1.26MB/s    in 0.7s    \n",
            "\n",
            "2022-09-03 07:10:22 (1.26 MB/s) - ‘postgresql-42.2.9.jar’ saved [914037/914037]\n",
            "\n"
          ]
        }
      ],
      "source": [
        "!wget https://jdbc.postgresql.org/download/postgresql-42.2.9.jar"
      ]
    },
    {
      "cell_type": "code",
      "execution_count": null,
      "metadata": {
        "id": "3nrvrnveiFCT"
      },
      "outputs": [],
      "source": [
        "from pyspark.sql import SparkSession\n",
        "spark = SparkSession.builder.appName(\"CloudETL\").config(\"spark.driver.extraClassPath\",\"/content/postgresql-42.2.9.jar\").getOrCreate()"
      ]
    },
    {
      "cell_type": "code",
      "execution_count": null,
      "metadata": {
        "colab": {
          "base_uri": "https://localhost:8080/"
        },
        "id": "awBK1uUj2jM5",
        "outputId": "dad5090b-18b3-4848-a145-b6541abb3392"
      },
      "outputs": [
        {
          "name": "stdout",
          "output_type": "stream",
          "text": [
            "+-----------+-----------+--------------+----------+--------------+----------------------------------------------------------------------------------------------------------------------------------------------------------+----------------+-----------+-------------+-----------+----+-----------------+-----------------------------------------------------------------------------------+--------------------------------------------------------------------------------------------------------------------------------------------------------------------------------------------------------------------------------------------------------------------------------------------------------------------------------------------------------------------------------------------------------------------------------------------------------------------------------------------------------------------------------------------------------------------------------------------------------------------------------------------------------------------------------------------------------------------------------------------------------------------------------------------------------------------------------------------------------------------------------------------------------------------------------------------------------------------------------------------------------------------------------------------------------------------------------------------------------------------------------------------------------------------------------------------------------------------------------------+-----------+\n",
            "|marketplace|customer_id|review_id     |product_id|product_parent|product_title                                                                                                                                             |product_category|star_rating|helpful_votes|total_votes|vine|verified_purchase|review_headline                                                                    |review_body                                                                                                                                                                                                                                                                                                                                                                                                                                                                                                                                                                                                                                                                                                                                                                                                                                                                                                                                                                                                                                                                                                                                                                                                                           |review_date|\n",
            "+-----------+-----------+--------------+----------+--------------+----------------------------------------------------------------------------------------------------------------------------------------------------------+----------------+-----------+-------------+-----------+----+-----------------+-----------------------------------------------------------------------------------+--------------------------------------------------------------------------------------------------------------------------------------------------------------------------------------------------------------------------------------------------------------------------------------------------------------------------------------------------------------------------------------------------------------------------------------------------------------------------------------------------------------------------------------------------------------------------------------------------------------------------------------------------------------------------------------------------------------------------------------------------------------------------------------------------------------------------------------------------------------------------------------------------------------------------------------------------------------------------------------------------------------------------------------------------------------------------------------------------------------------------------------------------------------------------------------------------------------------------------------+-----------+\n",
            "|US         |12039526   |RTIS3L2M1F5SM |B001CXYMFS|737716809     |Thrustmaster T-Flight Hotas X Flight Stick                                                                                                                |Video Games     |5          |0            |0          |N   |Y                |an amazing joystick. I especially love that you can twist ...                      |Used this for Elite Dangerous on my mac, an amazing joystick. I especially love that you can twist the stick for different movement bindings as well as move it in the normal way.                                                                                                                                                                                                                                                                                                                                                                                                                                                                                                                                                                                                                                                                                                                                                                                                                                                                                                                                                                                                                                                    |2015-08-31 |\n",
            "|US         |9636577    |R1ZV7R40OLHKD |B00M920ND6|569686175     |Tonsee 6 buttons Wireless Optical Silent Gaming Mouse For PC Laptop Gamer Red                                                                             |Video Games     |5          |0            |0          |N   |Y                |Definitely a silent mouse... Not a single click was heard                          |Loved it,  I didn't even realise it was a gaming mouse,  I typed in &#34;silent mouse&#34; and selected this one. It is perfect and looks pretty cool as well. Now my boyfriend's gaming is wonderfully comfortably silent :) . Think I might just get one for myself.                                                                                                                                                                                                                                                                                                                                                                                                                                                                                                                                                                                                                                                                                                                                                                                                                                                                                                                                                                |2015-08-31 |\n",
            "|US         |2331478    |R3BH071QLH8QMC|B0029CSOD2|98937668      |Hidden Mysteries: Titanic Secrets of the Fateful Voyage                                                                                                   |Video Games     |1          |0            |1          |N   |Y                |One Star                                                                           |poor quality work and not as it is advertised.                                                                                                                                                                                                                                                                                                                                                                                                                                                                                                                                                                                                                                                                                                                                                                                                                                                                                                                                                                                                                                                                                                                                                                                        |2015-08-31 |\n",
            "|US         |52495923   |R127K9NTSXA2YH|B00GOOSV98|23143350      |GelTabz Performance Thumb Grips - PlayStation 4 and PlayStation 3                                                                                         |Video Games     |3          |0            |0          |N   |Y                |good, but could be bettee                                                          |nice, but tend to slip away from stick in intense (hard pressed) gaming sessions.                                                                                                                                                                                                                                                                                                                                                                                                                                                                                                                                                                                                                                                                                                                                                                                                                                                                                                                                                                                                                                                                                                                                                     |2015-08-31 |\n",
            "|US         |14533949   |R32ZWUXDJPW27Q|B00Y074JOM|821342511     |Zero Suit Samus amiibo - Japan Import (Super Smash Bros Series)                                                                                           |Video Games     |4          |0            |0          |N   |Y                |Great but flawed.                                                                  |Great amiibo, great for collecting. Quality material to be desired, since its not perfect.                                                                                                                                                                                                                                                                                                                                                                                                                                                                                                                                                                                                                                                                                                                                                                                                                                                                                                                                                                                                                                                                                                                                            |2015-08-31 |\n",
            "|US         |2377552    |R3AQQ4YUKJWBA6|B002UBI6W6|328764615     |Psyclone Recharge Station for Nintendo Wii 4 Port With 4 Batteries                                                                                        |Video Games     |1          |0            |0          |N   |Y                |One Star                                                                           |The remote constantly have to be adjusted in order to charge.                                                                                                                                                                                                                                                                                                                                                                                                                                                                                                                                                                                                                                                                                                                                                                                                                                                                                                                                                                                                                                                                                                                                                                         |2015-08-31 |\n",
            "|US         |17521011   |R2F0POU5K6F73F|B008XHCLFO|24234603      |Protection for your 3DS XL                                                                                                                                |Video Games     |5          |0            |0          |N   |Y                |A Must                                                                             |I have a 2012-2013 XL and this is very durable, comfortable, and really cool looking.                                                                                                                                                                                                                                                                                                                                                                                                                                                                                                                                                                                                                                                                                                                                                                                                                                                                                                                                                                                                                                                                                                                                                 |2015-08-31 |\n",
            "|US         |19676307   |R3VNR804HYSMR6|B00BRA9R6A|682267517     |Nerf 3DS XL Armor                                                                                                                                         |Video Games     |5          |0            |0          |N   |Y                |Five Stars                                                                         |Perfect, kids loved them. Great protection for their technology.                                                                                                                                                                                                                                                                                                                                                                                                                                                                                                                                                                                                                                                                                                                                                                                                                                                                                                                                                                                                                                                                                                                                                                      |2015-08-31 |\n",
            "|US         |224068     |R3GZTM72WA2QH |B009EPWJLA|435241890     |One Piece: Pirate Warriors / Kaizoku Musou PS3 Game (Japanese Voice & English subtitle) [Region Free International Edition]                               |Video Games     |5          |0            |0          |N   |Y                |Five Stars                                                                         |Excelent                                                                                                                                                                                                                                                                                                                                                                                                                                                                                                                                                                                                                                                                                                                                                                                                                                                                                                                                                                                                                                                                                                                                                                                                                              |2015-08-31 |\n",
            "|US         |48467989   |RNQOY62705W1K |B0000AV7GB|256572651     |Playstation 2 Dance Pad Revolution 2                                                                                                                      |Video Games     |4          |0            |0          |N   |Y                |Four Stars                                                                         |Slippery but expected                                                                                                                                                                                                                                                                                                                                                                                                                                                                                                                                                                                                                                                                                                                                                                                                                                                                                                                                                                                                                                                                                                                                                                                                                 |2015-08-31 |\n",
            "|US         |106569     |R1VTIA3JTYBY02|B00008KTNN|384411423     |Metal Arms: Glitch In The System                                                                                                                          |Video Games     |5          |0            |0          |N   |N                |Five Stars                                                                         |Love the game. Seller hasn't released Amy info on my shipping  progress                                                                                                                                                                                                                                                                                                                                                                                                                                                                                                                                                                                                                                                                                                                                                                                                                                                                                                                                                                                                                                                                                                                                                               |2015-08-31 |\n",
            "|US         |48269642   |R29DOU8791QZL8|B000A3IA0Y|472622859     |72 Pin Connector for NES 8 BIT Nintendo System (Bulk Packaging)                                                                                           |Video Games     |1          |0            |0          |N   |Y                |Game will get stuck                                                                |Does not fit properly. The cartridge will get stuck and will be a pain in the butt to get out! I don't think this company actually test this because if they did they would notice that the cartridge will be hard as hell to remove! My advice would be to try and refurbish the old 72 pin if possible. Don't waste your money like I did.                                                                                                                                                                                                                                                                                                                                                                                                                                                                                                                                                                                                                                                                                                                                                                                                                                                                                          |2015-08-31 |\n",
            "|US         |52738710   |R15DUT1VIJ9RJZ|B0053BQN34|577628462     |uDraw Gametablet with uDraw Studio                                                                                                                        |Video Games     |2          |0            |0          |N   |Y                |We have tried it with kids ages 4-7 and none of them have had fun doing it         |This was way too hard for my kids. We have tried it with kids ages 4-7 and none of them have had fun doing it. It's a little complicated and I pretty much had to do it the whole time for them. They would only play with it for a few minutes and then be done. It looked fun so we were disappointed that it wasn't easy enough for them to use.                                                                                                                                                                                                                                                                                                                                                                                                                                                                                                                                                                                                                                                                                                                                                                                                                                                                                   |2015-08-31 |\n",
            "|US         |10556786   |R3IMF2MQ3OU9ZM|B002I0HIMI|988218515     |NBA 2K12(Covers May Vary)                                                                                                                                 |Video Games     |4          |0            |0          |N   |Y                |Four Stars                                                                         |Works great good game arrived quickly                                                                                                                                                                                                                                                                                                                                                                                                                                                                                                                                                                                                                                                                                                                                                                                                                                                                                                                                                                                                                                                                                                                                                                                                 |2015-08-31 |\n",
            "|US         |2963837    |R23H79DHOZTYAU|B0081EH12M|770100932     |New Trigger Grips Black Compatible With PSVita Playstation Vita                                                                                           |Video Games     |1          |1            |1          |N   |Y                |Now i have to buy a better one. Sorry guys but its the truth                       |It did not fit the device well... Now i have to buy a better one. Sorry guys but its the truth.                                                                                                                                                                                                                                                                                                                                                                                                                                                                                                                                                                                                                                                                                                                                                                                                                                                                                                                                                                                                                                                                                                                                       |2015-08-31 |\n",
            "|US         |23092109   |RIV24EQAIXA4O |B005FMLZQQ|24647669      |Xbox 360 Media Remote                                                                                                                                     |Video Games     |5          |0            |0          |N   |Y                |Five Stars                                                                         |perfect lightweight and works flawless with Xbox 360                                                                                                                                                                                                                                                                                                                                                                                                                                                                                                                                                                                                                                                                                                                                                                                                                                                                                                                                                                                                                                                                                                                                                                                  |2015-08-31 |\n",
            "|US         |23091728   |R3UCNGYDVN24YB|B002BSA388|33706205      |Super Mario Galaxy 2                                                                                                                                      |Video Games     |5          |0            |0          |N   |Y                |Five Stars                                                                         |great                                                                                                                                                                                                                                                                                                                                                                                                                                                                                                                                                                                                                                                                                                                                                                                                                                                                                                                                                                                                                                                                                                                                                                                                                                 |2015-08-31 |\n",
            "|US         |10712640   |RUL4H4XTTN2DY |B00BUSLSAC|829667834     |Nintendo 3DS XL - Yellow Pikachu                                                                                                                          |Video Games     |5          |0            |0          |N   |Y                |Five Stars                                                                         |Works beautifully and looks great. I love playing the slew of great rpgs for it.                                                                                                                                                                                                                                                                                                                                                                                                                                                                                                                                                                                                                                                                                                                                                                                                                                                                                                                                                                                                                                                                                                                                                      |2015-08-31 |\n",
            "|US         |17455376   |R20JF7Z4DHTNX5|B00KWF38AW|110680188     |Captain Toad:  Treasure Tracker                                                                                                                           |Video Games     |5          |0            |0          |N   |Y                |Five Stars                                                                         |Kids loved the game.  They are 9 and 11.                                                                                                                                                                                                                                                                                                                                                                                                                                                                                                                                                                                                                                                                                                                                                                                                                                                                                                                                                                                                                                                                                                                                                                                              |2015-08-31 |\n",
            "|US         |14754850   |R2T1AJ5MFI2260|B00BRQJYA8|616463426     |Lego Batman 2: DC Super Heroes                                                                                                                            |Video Games     |4          |0            |0          |N   |Y                |Four Stars                                                                         |Goodngame                                                                                                                                                                                                                                                                                                                                                                                                                                                                                                                                                                                                                                                                                                                                                                                                                                                                                                                                                                                                                                                                                                                                                                                                                             |2015-08-31 |\n",
            "|US         |14533949   |RYSSKR5ZTU8JX |B0056WJA6C|772407903     |Bodycount                                                                                                                                                 |Video Games     |1          |0            |0          |N   |Y                |Not worth it. Better to buy minecraft                                              |Game had bad gameplay, terrible mechanics, and the game gave me a head ache with the graphics.                                                                                                                                                                                                                                                                                                                                                                                                                                                                                                                                                                                                                                                                                                                                                                                                                                                                                                                                                                                                                                                                                                                                        |2015-08-31 |\n",
            "|US         |2322846    |R2E5BQMWTW9JUQ|B003GDFMWE|266211125     |Component HDTV AV Cable for Xbox 360                                                                                                                      |Video Games     |5          |0            |0          |N   |Y                |Five Stars                                                                         |works fantastic                                                                                                                                                                                                                                                                                                                                                                                                                                                                                                                                                                                                                                                                                                                                                                                                                                                                                                                                                                                                                                                                                                                                                                                                                       |2015-08-31 |\n",
            "|US         |48880662   |R1UC7WJRQQKU5V|B0053OLY9O|644540693     |Wireless Stereo Headset - Playstation 3                                                                                                                   |Video Games     |5          |0            |0          |N   |Y                |Five Stars                                                                         |very good                                                                                                                                                                                                                                                                                                                                                                                                                                                                                                                                                                                                                                                                                                                                                                                                                                                                                                                                                                                                                                                                                                                                                                                                                             |2015-08-31 |\n",
            "|US         |10712640   |R3V0YK55IDIW3T|B00FS2XRIC|880237933     |Kingdom Hearts                                                                                                                                            |Video Games     |5          |0            |0          |N   |Y                |It contains the two best Kingdom Hearts games that can be replayed in beautiful ...|It contains the two best Kingdom Hearts games that can be replayed in beautiful hd. KH2 especially still holds up amazing.                                                                                                                                                                                                                                                                                                                                                                                                                                                                                                                                                                                                                                                                                                                                                                                                                                                                                                                                                                                                                                                                                                            |2015-08-31 |\n",
            "|US         |22151364   |R14Z48EC6DKJX9|B000PHNW3A|627665644     |Shadowrun                                                                                                                                                 |Video Games     |5          |0            |0          |N   |Y                |Five Stars                                                                         |Awesome!                                                                                                                                                                                                                                                                                                                                                                                                                                                                                                                                                                                                                                                                                                                                                                                                                                                                                                                                                                                                                                                                                                                                                                                                                              |2015-08-31 |\n",
            "|US         |1581810    |R3AACSKX1EAHUY|B001REZLY8|816407837     |Fallout 3: Game of The Year Edition                                                                                                                       |Video Games     |5          |1            |1          |N   |Y                |Wow just Amazing                                                                   |This game is legendary if you like RPG games and haven't played any of the fallout games BUY THIS GAME it's worth every cent I'm my opinion I think this is a little better than Skyrim and get Game of the Year edition its pretty cheap and actually worth your money                                                                                                                                                                                                                                                                                                                                                                                                                                                                                                                                                                                                                                                                                                                                                                                                                                                                                                                                                               |2015-08-31 |\n",
            "|US         |25401563   |R1FJWU0IJ4KUT4|B001BNFQKO|108570469     |Grand Theft Auto IV                                                                                                                                       |Video Games     |1          |5            |5          |N   |Y                |DRM FAIL                                                                           |Normally I wouldn't bother rating anythng 1 star but Rockstar has made this thing very difficult, if not impossible to authenticate. The automatic autherntication does not work and the offline setup doesn't either. The super secret code it generates does nothing. You copy that to one window then type in the other super secret code that comes on the back of a book, hit authenticate or whatever and it terminates, saying you should make sure the unlock request is entered correctly. Well, yes you idiots, I know how to copy and paste. You cannot play even offline and you have to start all over again. There is a securerom link to go to if you can't get it working. It doesn't work either. It's so secure you can't access it. I do have the xbox version so I can play it but I prefer PC gaming.<br /><br />Maybe the steam version is the way to go. I haven't tried it and am not planning to buy the damn thing a third time but that might be the way to go instead of footling around with the disc version. I do not recommend wasting your time trying to get through Rockstar's DRM. Honestly you idiots, pirates will pirate. Regular users are the ones who get scred by DRM. When will you learn?|2015-08-31 |\n",
            "|US         |3014276    |R3D8ELWH0671OJ|B00RAB0J0S|103963355     |Gameband                                                                                                                                                  |Video Games     |5          |3            |7          |N   |Y                |Five Stars                                                                         |Hi                                                                                                                                                                                                                                                                                                                                                                                                                                                                                                                                                                                                                                                                                                                                                                                                                                                                                                                                                                                                                                                                                                                                                                                                                                    |2015-08-31 |\n",
            "|US         |27975200   |R3IU97WRKS5SLN|B0034JKYO6|718871603     |Halo Wars                                                                                                                                                 |Video Games     |5          |0            |0          |N   |Y                |Five Stars                                                                         |great game, halo RTS well done                                                                                                                                                                                                                                                                                                                                                                                                                                                                                                                                                                                                                                                                                                                                                                                                                                                                                                                                                                                                                                                                                                                                                                                                        |2015-08-31 |\n",
            "|US         |47864127   |RJOF64DZUKQ3D |B006OI3CTS|578887204     |Kingdom Hearts 3D Dream Drop Distance                                                                                                                     |Video Games     |5          |0            |0          |N   |Y                |Five Stars                                                                         |Was a gift and is loved and used by granddaughter.                                                                                                                                                                                                                                                                                                                                                                                                                                                                                                                                                                                                                                                                                                                                                                                                                                                                                                                                                                                                                                                                                                                                                                                    |2015-08-31 |\n",
            "|US         |45205407   |R3GXKE92MJBBSL|B00KVP78FE|177244653     |Sony PlayStation 4 PS4 Dualshock 4 Wireless Control                                                                                                       |Video Games     |5          |0            |0          |N   |Y                |Five Stars                                                                         |Nice... just like the oem one                                                                                                                                                                                                                                                                                                                                                                                                                                                                                                                                                                                                                                                                                                                                                                                                                                                                                                                                                                                                                                                                                                                                                                                                         |2015-08-31 |\n",
            "|US         |667240     |R3EKZ2GTIPQ3ZL|B00005CF9L|642880364     |NBA Street Vol 2                                                                                                                                          |Video Games     |5          |0            |1          |N   |Y                |Its a must buy                                                                     |It didn't take long to receive my package... The game was in great condition... I just love it                                                                                                                                                                                                                                                                                                                                                                                                                                                                                                                                                                                                                                                                                                                                                                                                                                                                                                                                                                                                                                                                                                                                        |2015-08-31 |\n",
            "|US         |39746001   |R23HC6NMA3HBPS|B00MV7KVP4|92208606      |Until Dawn  - PlayStation 4 [Digital Code]                                                                                                                |Video Games     |5          |1            |1          |N   |N                |If you like Heavy Rain                                                             |Downloaded this from the PSN before release date but played for about 5 hours last night.<br />Don't expect resident evil style of game play...If you like Heavy Rain, Telltale games such as The Walking Dead & The wolf among us style of game play this is the game for you!!  Supped up graphics and good story line.  I really like the way the creators of the game switch between characters and leaves you in suspense right after an incident.  Really solid game so far!<br /><br /> Update: Sept 11 2015. Really good game.  The only issue I have with this game is it should have been much longer....it's too short.                                                                                                                                                                                                                                                                                                                                                                                                                                                                                                                                                                                                    |2015-08-31 |\n",
            "|US         |4089089    |R3ANEHLBZQZKBI|B00KAED7OC|666776757     |Far Cry 4                                                                                                                                                 |Video Games     |5          |0            |0          |N   |Y                |Five Stars                                                                         |Amazing game with amazing story                                                                                                                                                                                                                                                                                                                                                                                                                                                                                                                                                                                                                                                                                                                                                                                                                                                                                                                                                                                                                                                                                                                                                                                                       |2015-08-31 |\n",
            "|US         |10712640   |R1DLJMMMK89CGD|B00KVRK39A|926940172     |Persona Q: Shadow of the Labyrinth                                                                                                                        |Video Games     |5          |0            |0          |N   |Y                |Five Stars                                                                         |A kickass special edition package for a great game.                                                                                                                                                                                                                                                                                                                                                                                                                                                                                                                                                                                                                                                                                                                                                                                                                                                                                                                                                                                                                                                                                                                                                                                   |2015-08-31 |\n",
            "|US         |30477870   |RUGCK1O1I3YAD |B00Q4Z29H2|406337356     |Disney Infinity: 2.0 Edition Power Disc Album Bundle                                                                                                      |Video Games     |5          |0            |0          |N   |Y                |Five Stars                                                                         |GREAT                                                                                                                                                                                                                                                                                                                                                                                                                                                                                                                                                                                                                                                                                                                                                                                                                                                                                                                                                                                                                                                                                                                                                                                                                                 |2015-08-31 |\n",
            "|US         |2803958    |R32GULBEVCP7C6|B00LUF3DOY|218908462     |EagleTec MR5M2509 2.4GHz Wireless Optical Mouse, Switchable DPI 1000/1500/2000,5 Buttons, 2 Programming Keys with Nano USB Receiver (Gold Color) (2509-CG)|Video Games     |1          |0            |0          |N   |Y                |first one came fine and i am still using it                                        |i've bought 2 units of this product. first one came fine and i am still using it, so i ordered another for my laptop. it came in like a week ago but i opened it today. it is not working and it looks used to. i know they will refund it, but it is another painful work.                                                                                                                                                                                                                                                                                                                                                                                                                                                                                                                                                                                                                                                                                                                                                                                                                                                                                                                                                           |2015-08-31 |\n",
            "|US         |10548951   |R3HOHBDG1HOZLE|B00273Z9WM|526642828     |Nyko Charge Base 360 S for Xbox 360                                                                                                                       |Video Games     |1          |0            |1          |N   |Y                |One Star                                                                           |Though I would like it but seemed cheap when I got it in the mail.                                                                                                                                                                                                                                                                                                                                                                                                                                                                                                                                                                                                                                                                                                                                                                                                                                                                                                                                                                                                                                                                                                                                                                    |2015-08-31 |\n",
            "|US         |24000539   |R8HD4KOH8L0A6 |B00Q03M888|987197932     |Dark Souls II: Scholar of the First Sin                                                                                                                   |Video Games     |5          |1            |2          |N   |Y                |I played the 360 version and enjoy the heck out of thr series but this just ...    |I played the 360 version and enjoy the heck out of thr series but this just brought the game up to the level we always wanted it to be.                                                                                                                                                                                                                                                                                                                                                                                                                                                                                                                                                                                                                                                                                                                                                                                                                                                                                                                                                                                                                                                                                               |2015-08-31 |\n",
            "|US         |30067162   |R1OTFNID62KK2T|B004UDLRMS|271964156     |Resident Evil: Operation Raccoon City                                                                                                                     |Video Games     |5          |0            |1          |N   |Y                |Five Stars                                                                         |great                                                                                                                                                                                                                                                                                                                                                                                                                                                                                                                                                                                                                                                                                                                                                                                                                                                                                                                                                                                                                                                                                                                                                                                                                                 |2015-08-31 |\n",
            "|US         |14861684   |R1VMI5EN72ALKT|B000AC59ZO|565254731     |Fable: The Lost Chapters                                                                                                                                  |Video Games     |4          |0            |0          |N   |Y                |Four Stars                                                                         |Love Fable, so this was naturally a winner!                                                                                                                                                                                                                                                                                                                                                                                                                                                                                                                                                                                                                                                                                                                                                                                                                                                                                                                                                                                                                                                                                                                                                                                           |2015-08-31 |\n",
            "|US         |2305730    |R1H4FFUAQGFD3Q|B005DI7N7W|56820144      |CirKa Controller for N64 (Red)                                                                                                                            |Video Games     |1          |0            |0          |N   |Y                |One Star                                                                           |Don't like at all not happy happy just sad sad                                                                                                                                                                                                                                                                                                                                                                                                                                                                                                                                                                                                                                                                                                                                                                                                                                                                                                                                                                                                                                                                                                                                                                                        |2015-08-31 |\n",
            "|US         |669612     |R2MTHHQM6RSDQK|B00503E8S2|895635946     |Call of Duty: Modern Warfare 3 - Xbox 360                                                                                                                 |Video Games     |4          |0            |1          |N   |N                |Four Stars                                                                         |I enjoyed th game, But it was easy to beat.                                                                                                                                                                                                                                                                                                                                                                                                                                                                                                                                                                                                                                                                                                                                                                                                                                                                                                                                                                                                                                                                                                                                                                                           |2015-08-31 |\n",
            "|US         |1822902    |R2FGNUPI80N01F|B000I7GI8I|292434726     |Xbox Precision Controller                                                                                                                                 |Video Games     |1          |0            |1          |N   |Y                |One Star                                                                           |Did not work could not return                                                                                                                                                                                                                                                                                                                                                                                                                                                                                                                                                                                                                                                                                                                                                                                                                                                                                                                                                                                                                                                                                                                                                                                                         |2015-08-31 |\n",
            "|US         |22151364   |R2636ZX835F2AQ|B0050SWTS8|652324870     |Dead Space 3                                                                                                                                              |Video Games     |5          |0            |0          |N   |Y                |Five Stars                                                                         |Awesome!                                                                                                                                                                                                                                                                                                                                                                                                                                                                                                                                                                                                                                                                                                                                                                                                                                                                                                                                                                                                                                                                                                                                                                                                                              |2015-08-31 |\n",
            "|US         |29604302   |R9WP6WZ1ANYSD |B00O9GW8VK|949822044     |Nintendo Super Smash Bros. Black Classic Gamecube Controller                                                                                              |Video Games     |5          |0            |0          |N   |Y                |Look no further                                                                    |a lot more comfortable and responsive than any other controllers out there, even the original Nintendo GC controller                                                                                                                                                                                                                                                                                                                                                                                                                                                                                                                                                                                                                                                                                                                                                                                                                                                                                                                                                                                                                                                                                                                  |2015-08-31 |\n",
            "|US         |50165446   |R19IRZAAPBCJES|B003O6E800|970259291     |The Legend of Zelda: Ocarina of Time 3D                                                                                                                   |Video Games     |5          |0            |0          |N   |Y                |It's the same wonderful amazing game                                               |My husband and I played this when we were younger on the Nintendo Cube. It's the same wonderful amazing game!! The interface is actually even easier to do then the original which is always a perk. So glad Nintendo renewed this game :)                                                                                                                                                                                                                                                                                                                                                                                                                                                                                                                                                                                                                                                                                                                                                                                                                                                                                                                                                                                            |2015-08-31 |\n",
            "|US         |1768899    |R2TGYMO2PKK8LN|B005OSFUOY|261895613     |FIFA Street                                                                                                                                               |Video Games     |5          |0            |0          |N   |Y                |Five Stars                                                                         |Love it                                                                                                                                                                                                                                                                                                                                                                                                                                                                                                                                                                                                                                                                                                                                                                                                                                                                                                                                                                                                                                                                                                                                                                                                                               |2015-08-31 |\n",
            "|US         |14352536   |RE9PNA5CSDZLG |B00YXO5X4M|832423177     |Turtle Beach - Ear Force Stealth 420X Fully Wireless Gaming Headset (Certified Refurbished) - Xbox One                                                    |Video Games     |5          |0            |0          |N   |Y                |Five Stars                                                                         |Works Great!                                                                                                                                                                                                                                                                                                                                                                                                                                                                                                                                                                                                                                                                                                                                                                                                                                                                                                                                                                                                                                                                                                                                                                                                                          |2015-08-31 |\n",
            "|US         |8399590    |R3DCTXDTB028VH|B00NGXUBTI|280854144     |Americas Collection Twister                                                                                                                               |Video Games     |5          |3            |4          |N   |Y                |A Solid Collection!                                                                |I have ALWAYS adored the AC franchise and will continue to support Ubisoft for a long time to come. Let's face it, there are A LOT of Assassin's Creed games! My game shelf was over flowing so I decided to clean things up a bit, therfore, I sold my &#34;AC3 - AC4&#34; games to purchase this set. ( I had never owned AC Liberation before) It's cheaper and more convenient than buying each game separate for the new buyers! I guess the only thing I'm surprised were not included were the Expansion Packs/DLC for each game. These are NOT new games (AC 4 might be an acception) so I am somewhat surprised that Ubisoft continue to make players pay for these old expansion packs.                                                                                                                                                                                                                                                                                                                                                                                                                                                                                                                                     |2015-08-31 |\n",
            "+-----------+-----------+--------------+----------+--------------+----------------------------------------------------------------------------------------------------------------------------------------------------------+----------------+-----------+-------------+-----------+----+-----------------+-----------------------------------------------------------------------------------+--------------------------------------------------------------------------------------------------------------------------------------------------------------------------------------------------------------------------------------------------------------------------------------------------------------------------------------------------------------------------------------------------------------------------------------------------------------------------------------------------------------------------------------------------------------------------------------------------------------------------------------------------------------------------------------------------------------------------------------------------------------------------------------------------------------------------------------------------------------------------------------------------------------------------------------------------------------------------------------------------------------------------------------------------------------------------------------------------------------------------------------------------------------------------------------------------------------------------------------+-----------+\n",
            "only showing top 50 rows\n",
            "\n"
          ]
        }
      ],
      "source": [
        "\n",
        "# Read in data from S3 Buckets\n",
        "from pyspark import SparkFiles\n",
        "url=\"https://s3.amazonaws.com/amazon-reviews-pds/tsv/amazon_reviews_us_Video_Games_v1_00.tsv.gz\"\n",
        "spark.sparkContext.addFile(url)\n",
        "video_game_df = spark.read.csv(SparkFiles.get(\"amazon_reviews_us_Video_Games_v1_00.tsv.gz\"), sep=\"\\t\", header=True, inferSchema=True)\n",
        "\n",
        "# Show DataFrame\n",
        "video_game_df.show(n=50, truncate=False)"
      ]
    },
    {
      "cell_type": "code",
      "execution_count": null,
      "metadata": {
        "colab": {
          "base_uri": "https://localhost:8080/"
        },
        "id": "FULRn2zX_lve",
        "outputId": "36ca7673-3c7b-4f6e-a33b-b95f9864731d"
      },
      "outputs": [
        {
          "data": {
            "text/plain": [
              "1785997"
            ]
          },
          "execution_count": 5,
          "metadata": {},
          "output_type": "execute_result"
        }
      ],
      "source": [
        "video_game_df.count()"
      ]
    },
    {
      "cell_type": "code",
      "execution_count": null,
      "metadata": {
        "colab": {
          "base_uri": "https://localhost:8080/"
        },
        "id": "Pg9DMKoH_oDh",
        "outputId": "90918c14-5102-4a89-c7b7-9873a813c7c9"
      },
      "outputs": [
        {
          "data": {
            "text/plain": [
              "['marketplace',\n",
              " 'customer_id',\n",
              " 'review_id',\n",
              " 'product_id',\n",
              " 'product_parent',\n",
              " 'product_title',\n",
              " 'product_category',\n",
              " 'star_rating',\n",
              " 'helpful_votes',\n",
              " 'total_votes',\n",
              " 'vine',\n",
              " 'verified_purchase',\n",
              " 'review_headline',\n",
              " 'review_body',\n",
              " 'review_date']"
            ]
          },
          "execution_count": 6,
          "metadata": {},
          "output_type": "execute_result"
        }
      ],
      "source": [
        "video_game_df.columns"
      ]
    },
    {
      "cell_type": "code",
      "execution_count": null,
      "metadata": {
        "colab": {
          "base_uri": "https://localhost:8080/"
        },
        "id": "5EsyW_K6_oci",
        "outputId": "1f89d9ad-8f07-403e-8285-08d6fb9a6082"
      },
      "outputs": [
        {
          "data": {
            "text/plain": [
              "[('marketplace', 'string'),\n",
              " ('customer_id', 'int'),\n",
              " ('review_id', 'string'),\n",
              " ('product_id', 'string'),\n",
              " ('product_parent', 'int'),\n",
              " ('product_title', 'string'),\n",
              " ('product_category', 'string'),\n",
              " ('star_rating', 'int'),\n",
              " ('helpful_votes', 'int'),\n",
              " ('total_votes', 'int'),\n",
              " ('vine', 'string'),\n",
              " ('verified_purchase', 'string'),\n",
              " ('review_headline', 'string'),\n",
              " ('review_body', 'string'),\n",
              " ('review_date', 'string')]"
            ]
          },
          "execution_count": 7,
          "metadata": {},
          "output_type": "execute_result"
        }
      ],
      "source": [
        "video_game_df.dtypes"
      ]
    },
    {
      "cell_type": "code",
      "execution_count": null,
      "metadata": {
        "colab": {
          "base_uri": "https://localhost:8080/"
        },
        "id": "59ixZqcbHX4E",
        "outputId": "cbbf7054-686a-4278-f964-6b3f19a8568c"
      },
      "outputs": [
        {
          "data": {
            "text/plain": [
              "15"
            ]
          },
          "execution_count": 8,
          "metadata": {},
          "output_type": "execute_result"
        }
      ],
      "source": [
        "len(video_game_df.columns)"
      ]
    },
    {
      "cell_type": "code",
      "execution_count": null,
      "metadata": {
        "colab": {
          "base_uri": "https://localhost:8080/"
        },
        "id": "hPOmGyKr-kt8",
        "outputId": "c0bda848-6c5a-474f-bbaf-f5121d8076c7"
      },
      "outputs": [
        {
          "data": {
            "text/plain": [
              "<bound method DataFrame.printSchema of DataFrame[marketplace: string, customer_id: int, review_id: string, product_id: string, product_parent: int, product_title: string, product_category: string, star_rating: int, helpful_votes: int, total_votes: int, vine: string, verified_purchase: string, review_headline: string, review_body: string, review_date: date]>"
            ]
          },
          "execution_count": 9,
          "metadata": {},
          "output_type": "execute_result"
        }
      ],
      "source": [
        "video_game_df = video_game_df.withColumn('star_rating',video_game_df['star_rating'].cast(IntegerType()))\n",
        "video_game_df = video_game_df.withColumn('review_date',video_game_df['review_date'].cast(DateType()))\n",
        "video_game_df.printSchema"
      ]
    },
    {
      "cell_type": "code",
      "execution_count": null,
      "metadata": {
        "colab": {
          "base_uri": "https://localhost:8080/"
        },
        "id": "IyUnNnhOHctk",
        "outputId": "fa07ec5f-3710-40f2-842c-d3b2f3f6378d"
      },
      "outputs": [
        {
          "data": {
            "text/plain": [
              "DataFrame[marketplace: string, customer_id: int, review_id: string, product_id: string, product_parent: int, product_title: string, product_category: string, star_rating: int, helpful_votes: int, total_votes: int, vine: string, verified_purchase: string, review_headline: string, review_body: string, review_date: date]"
            ]
          },
          "execution_count": 10,
          "metadata": {},
          "output_type": "execute_result"
        }
      ],
      "source": [
        "video_game_df.dropDuplicates()"
      ]
    },
    {
      "cell_type": "code",
      "execution_count": null,
      "metadata": {
        "colab": {
          "base_uri": "https://localhost:8080/"
        },
        "id": "TDfj6cy9J1HT",
        "outputId": "6a60d118-1725-4e1e-8eb2-a9daf46e9756"
      },
      "outputs": [
        {
          "data": {
            "text/plain": [
              "DataFrame[marketplace: string, customer_id: int, review_id: string, product_id: string, product_parent: int, product_title: string, product_category: string, star_rating: int, helpful_votes: int, total_votes: int, vine: string, verified_purchase: string, review_headline: string, review_body: string, review_date: date]"
            ]
          },
          "execution_count": 11,
          "metadata": {},
          "output_type": "execute_result"
        }
      ],
      "source": [
        "video_game_df.dropna()"
      ]
    },
    {
      "cell_type": "code",
      "execution_count": null,
      "metadata": {
        "colab": {
          "base_uri": "https://localhost:8080/"
        },
        "id": "hNWQqS2-QEwn",
        "outputId": "177a3b70-36fb-4b67-aebf-bd40cb5566f4"
      },
      "outputs": [
        {
          "data": {
            "text/plain": [
              "1785997"
            ]
          },
          "execution_count": 12,
          "metadata": {},
          "output_type": "execute_result"
        }
      ],
      "source": [
        "video_game_df.count()"
      ]
    },
    {
      "cell_type": "code",
      "execution_count": null,
      "metadata": {
        "colab": {
          "base_uri": "https://localhost:8080/"
        },
        "id": "LoWO3IjRKmQo",
        "outputId": "03924658-12bd-4a32-fe03-42b700bf36ce"
      },
      "outputs": [
        {
          "name": "stdout",
          "output_type": "stream",
          "text": [
            "+--------------+-----------+----------+--------------+-----------+\n",
            "|     review_id|customer_id|product_id|product_parent|review_date|\n",
            "+--------------+-----------+----------+--------------+-----------+\n",
            "|R3AQQ4YUKJWBA6|    2377552|B002UBI6W6|     328764615| 2015-08-31|\n",
            "|R2AD9LVILJOIOG|   51308760|B00C9CBH5E|     410950807| 2015-08-31|\n",
            "|R1IGDNY24VAMS0|   22151364|B0050SZ0SY|     242374038| 2015-08-31|\n",
            "|R2YSTA3GEP31G0|   25416778|B00S1LRX3W|     391171637| 2015-08-30|\n",
            "|R3NLHTHMF35OXC|   26172698|B00GZ1GUSY|     250905955| 2015-08-30|\n",
            "|R3M9998T5HK2B7|   33503411|B006PP41Q8|     487045078| 2015-08-30|\n",
            "|R1V62SGJ30PV75|    1654808|B00EM5UFF4|     246340720| 2015-08-30|\n",
            "|R1QXLULXB45OQV|   49908170|B00JQHU9RC|     225768017| 2015-08-30|\n",
            "| R3SYBWJR2PU27|    1493880|B00VETEZ16|     227503127| 2015-08-30|\n",
            "|R2LQJ3QWIDNVQ0|   22115464|B00004SVOG|     228547293| 2015-08-29|\n",
            "|R3P7DT2ZILOUAQ|   35999820|B00KTNSKZU|     464567949| 2015-08-29|\n",
            "|R16V7B884VVH9E|   31085673|B000R3BNDI|     318965716| 2015-08-29|\n",
            "|R21U2FW6B84M1K|   21224187|B004XV9EWW|     514252510| 2015-08-29|\n",
            "| RZTGXEIV2PD3U|    1008917|B000FG65EY|     467673783| 2015-08-29|\n",
            "|R14S29YRJZIVDV|    9059332|B00011V7ZK|     442580352| 2015-08-28|\n",
            "| RZHMGAZSZASDO|    5332641|B00MV7KVP4|      92208606| 2015-08-28|\n",
            "| R7BUOX13JAMWT|   11303045|B00QXJFDZO|     785116791| 2015-08-28|\n",
            "|R1J2X1ZGALU14A|   13131221|B00FLLFJE0|     301243142| 2015-08-28|\n",
            "|R1V95OKU0XPV1H|    2031620|B00TEDK8FQ|     535078634| 2015-08-28|\n",
            "|R3UXY68BEYZO6D|   47565851|B001AIR1F8|     486693661| 2015-08-28|\n",
            "+--------------+-----------+----------+--------------+-----------+\n",
            "only showing top 20 rows\n",
            "\n"
          ]
        }
      ],
      "source": [
        "review_id_table = video_game_df.select([\"review_id\",\"customer_id\", \"product_id\", \"product_parent\", \"review_date\"]).distinct()\n",
        "review_id_table.show()\n"
      ]
    },
    {
      "cell_type": "code",
      "execution_count": null,
      "metadata": {
        "colab": {
          "base_uri": "https://localhost:8080/"
        },
        "id": "56f6PsmhSrO6",
        "outputId": "dc902cd3-c325-4745-ecf6-a2d790509dbe"
      },
      "outputs": [
        {
          "name": "stdout",
          "output_type": "stream",
          "text": [
            "+----------+--------------------+\n",
            "|product_id|       product_title|\n",
            "+----------+--------------------+\n",
            "|B00CJ7IUI6|The Elder Scrolls...|\n",
            "|B00DHF39KS|Wolfenstein: The ...|\n",
            "|B00MUTAVH6|Under Night In-Bi...|\n",
            "|B001AZSEUW|              Peggle|\n",
            "|B00KVOVBGM|PlayStation 4 Con...|\n",
            "|B00O9VGH4Y|USPRO&reg; Headph...|\n",
            "|B004OQNZY4|Phineas and Ferb:...|\n",
            "|B00ZLN980O|Donop seablue 2.4...|\n",
            "|B002L8W5V6|Dotop Nintendo Ga...|\n",
            "|B007AJZ5PY|Nyko Game Case fo...|\n",
            "|B000AOEU2K|Fire Emblem: Path...|\n",
            "|B000H8BW7U|Tanarus (PC) (Com...|\n",
            "|B013RADQOQ|Susenstone® 2400D...|\n",
            "|B00KQXKUJ2|FIFA 15 (Ultimate...|\n",
            "|B006W41X2C|Turtle Beach - Ea...|\n",
            "|B000KCX9M4|Grand Theft Auto:...|\n",
            "|B00YT90JWC|Red Wii Mini Cons...|\n",
            "|B0096KG6A8|Wii U Super Mario...|\n",
            "|B00L6AVLB0|World of Tanks-X3...|\n",
            "|B000IMYKQ0|Wii Nunchuk Contr...|\n",
            "+----------+--------------------+\n",
            "only showing top 20 rows\n",
            "\n"
          ]
        }
      ],
      "source": [
        "products= video_game_df.select([\"product_id\",\"product_title\"]).distinct()\n",
        "products.show()"
      ]
    },
    {
      "cell_type": "code",
      "execution_count": null,
      "metadata": {
        "colab": {
          "base_uri": "https://localhost:8080/"
        },
        "id": "cO4x5W1oS8L8",
        "outputId": "ccf07814-5e4b-4dd0-e722-07fc5afe9f7a"
      },
      "outputs": [
        {
          "name": "stdout",
          "output_type": "stream",
          "text": [
            "+-----------+--------------+\n",
            "|customer_id|customer_count|\n",
            "+-----------+--------------+\n",
            "|   48670265|             1|\n",
            "|   49103216|             2|\n",
            "|    1131200|             1|\n",
            "|   43076447|             2|\n",
            "|   46261368|             1|\n",
            "|    4883305|             5|\n",
            "|   41192649|             1|\n",
            "|   40985731|             7|\n",
            "|   10437900|             2|\n",
            "|   22245671|             1|\n",
            "|    2574873|             1|\n",
            "|    4696154|             1|\n",
            "|    5621202|             1|\n",
            "|    5871933|             2|\n",
            "|   44089812|             1|\n",
            "|    2845910|             1|\n",
            "|    5274369|             1|\n",
            "|   39069693|             2|\n",
            "|     137793|             1|\n",
            "|   31914942|             3|\n",
            "+-----------+--------------+\n",
            "only showing top 20 rows\n",
            "\n"
          ]
        }
      ],
      "source": [
        "customers = video_game_df.groupby(\"customer_id\").agg({\"customer_id\": \"count\"})\n",
        "customers = customers.withColumnRenamed(\"count(customer_id)\", \"customer_count\")\n",
        "customers.show()"
      ]
    },
    {
      "cell_type": "code",
      "execution_count": null,
      "metadata": {
        "colab": {
          "base_uri": "https://localhost:8080/"
        },
        "id": "LQcvWkl2S8PY",
        "outputId": "8311d910-5a40-4642-b9eb-882d6926a07c"
      },
      "outputs": [
        {
          "name": "stdout",
          "output_type": "stream",
          "text": [
            "+--------------+-----------+-------------+-----------+----+\n",
            "|     review_id|star_rating|helpful_votes|total_votes|vine|\n",
            "+--------------+-----------+-------------+-----------+----+\n",
            "| RTIS3L2M1F5SM|          5|            0|          0|   N|\n",
            "| R1ZV7R40OLHKD|          5|            0|          0|   N|\n",
            "|R3BH071QLH8QMC|          1|            0|          1|   N|\n",
            "|R127K9NTSXA2YH|          3|            0|          0|   N|\n",
            "|R32ZWUXDJPW27Q|          4|            0|          0|   N|\n",
            "|R3AQQ4YUKJWBA6|          1|            0|          0|   N|\n",
            "|R2F0POU5K6F73F|          5|            0|          0|   N|\n",
            "|R3VNR804HYSMR6|          5|            0|          0|   N|\n",
            "| R3GZTM72WA2QH|          5|            0|          0|   N|\n",
            "| RNQOY62705W1K|          4|            0|          0|   N|\n",
            "|R1VTIA3JTYBY02|          5|            0|          0|   N|\n",
            "|R29DOU8791QZL8|          1|            0|          0|   N|\n",
            "|R15DUT1VIJ9RJZ|          2|            0|          0|   N|\n",
            "|R3IMF2MQ3OU9ZM|          4|            0|          0|   N|\n",
            "|R23H79DHOZTYAU|          1|            1|          1|   N|\n",
            "| RIV24EQAIXA4O|          5|            0|          0|   N|\n",
            "|R3UCNGYDVN24YB|          5|            0|          0|   N|\n",
            "| RUL4H4XTTN2DY|          5|            0|          0|   N|\n",
            "|R20JF7Z4DHTNX5|          5|            0|          0|   N|\n",
            "|R2T1AJ5MFI2260|          4|            0|          0|   N|\n",
            "+--------------+-----------+-------------+-----------+----+\n",
            "only showing top 20 rows\n",
            "\n"
          ]
        }
      ],
      "source": [
        "vine_table= video_game_df.select([\"review_id\",\"star_rating\", \"helpful_votes\", \"total_votes\", \"vine\"])\n",
        "vine_table.show()"
      ]
    },
    {
      "cell_type": "code",
      "execution_count": null,
      "metadata": {
        "id": "IHGBkXibS8Sb"
      },
      "outputs": [],
      "source": []
    },
    {
      "cell_type": "code",
      "execution_count": null,
      "metadata": {
        "colab": {
          "base_uri": "https://localhost:8080/"
        },
        "id": "xsjqBP8vLOGI",
        "outputId": "04ca76fd-bc76-41c2-ea2a-78869405230d"
      },
      "outputs": [
        {
          "name": "stdout",
          "output_type": "stream",
          "text": [
            "+----------+--------------------+\n",
            "|product_id|       product_title|\n",
            "+----------+--------------------+\n",
            "|B00CJ7IUI6|The Elder Scrolls...|\n",
            "|B00DHF39KS|Wolfenstein: The ...|\n",
            "|B00MUTAVH6|Under Night In-Bi...|\n",
            "|B001AZSEUW|              Peggle|\n",
            "|B00KVOVBGM|PlayStation 4 Con...|\n",
            "|B00O9VGH4Y|USPRO&reg; Headph...|\n",
            "|B004OQNZY4|Phineas and Ferb:...|\n",
            "|B00ZLN980O|Donop seablue 2.4...|\n",
            "|B002L8W5V6|Dotop Nintendo Ga...|\n",
            "|B007AJZ5PY|Nyko Game Case fo...|\n",
            "|B000AOEU2K|Fire Emblem: Path...|\n",
            "|B000H8BW7U|Tanarus (PC) (Com...|\n",
            "|B013RADQOQ|Susenstone® 2400D...|\n",
            "|B00KQXKUJ2|FIFA 15 (Ultimate...|\n",
            "|B006W41X2C|Turtle Beach - Ea...|\n",
            "|B000KCX9M4|Grand Theft Auto:...|\n",
            "|B00YT90JWC|Red Wii Mini Cons...|\n",
            "|B0096KG6A8|Wii U Super Mario...|\n",
            "|B00L6AVLB0|World of Tanks-X3...|\n",
            "|B000IMYKQ0|Wii Nunchuk Contr...|\n",
            "+----------+--------------------+\n",
            "only showing top 20 rows\n",
            "\n"
          ]
        },
        {
          "data": {
            "text/plain": [
              "65792"
            ]
          },
          "execution_count": 18,
          "metadata": {},
          "output_type": "execute_result"
        }
      ],
      "source": [
        "products = video_game_df.select([\"product_id\",\"product_title\"]).distinct()\n",
        "products.show()\n",
        "products.count()\n",
        "\n"
      ]
    },
    {
      "cell_type": "code",
      "execution_count": null,
      "metadata": {
        "id": "QUuGfX_4Q1Ay"
      },
      "outputs": [],
      "source": [
        "# Configure settings for RDS\n",
        "mode = \"append\"\n",
        "jdbc_url=\"jdbc:postgresql://postgres.cyu2i14ugi0d.us-east-2.rds.amazonaws.com:5432/postgres\"\n",
        "config = {\"user\":\"<enter_username>\", \n",
        "          \"password\": \"<enter_password>\", \n",
        "          \"driver\":\"org.postgresql.Driver\"}"
      ]
    },
    {
      "cell_type": "code",
      "execution_count": null,
      "metadata": {
        "id": "sSXxwN0fYwr8"
      },
      "outputs": [],
      "source": [
        "review_id_table.write.jdbc(url=jdbc_url, table='review_id_table', mode=mode, properties=config)\n"
      ]
    },
    {
      "cell_type": "code",
      "execution_count": null,
      "metadata": {
        "id": "Zf2TQGHBYxMv"
      },
      "outputs": [],
      "source": [
        "products.write.jdbc(url=jdbc_url, table='products', mode=mode, properties=config)"
      ]
    },
    {
      "cell_type": "code",
      "execution_count": null,
      "metadata": {
        "id": "kLR1qImiZXMq"
      },
      "outputs": [],
      "source": [
        "customers.write.jdbc(url=jdbc_url, table='customers', mode=mode, properties=config)"
      ]
    },
    {
      "cell_type": "code",
      "execution_count": null,
      "metadata": {
        "id": "4R1PhJDxZYSM"
      },
      "outputs": [],
      "source": [
        "vine_table.write.jdbc(url=jdbc_url, table='vine_table', mode=mode, properties=config)"
      ]
    }
  ],
  "metadata": {
    "colab": {
      "provenance": []
    },
    "kernelspec": {
      "display_name": "Python 3.8.9 64-bit",
      "language": "python",
      "name": "python3"
    },
    "language_info": {
      "name": "python",
      "version": "3.8.9"
    },
    "vscode": {
      "interpreter": {
        "hash": "31f2aee4e71d21fbe5cf8b01ff0e069b9275f58929596ceb00d14d90e3e16cd6"
      }
    }
  },
  "nbformat": 4,
  "nbformat_minor": 0
}
